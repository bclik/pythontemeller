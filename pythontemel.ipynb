{
 "cells": [
  {
   "cell_type": "markdown",
   "metadata": {},
   "source": [
    "## Bir hafta sonunda eldeki para"
   ]
  },
  {
   "cell_type": "code",
   "execution_count": 18,
   "metadata": {},
   "outputs": [
    {
     "name": "stdout",
     "output_type": "stream",
     "text": [
      "toplam gelir:  2210.6814074060812\n"
     ]
    }
   ],
   "source": [
    "yatirim = 1000\n",
    "günlük_getiri_oranı= 0,12\n",
    "\n",
    "toplam_gelir = ((((((yatirim*1.12)*1.12)*1.12)*1.12)*1.12)*1.12)*1.12\n",
    "\n",
    "net = toplam_gelir - yatirim\n",
    "\n",
    "print('toplam gelir: ', toplam_gelir)\n",
    "\n",
    "\n"
   ]
  },
  {
   "cell_type": "markdown",
   "metadata": {},
   "source": [
    "## Tırnak içindeki metin"
   ]
  },
  {
   "cell_type": "code",
   "execution_count": 19,
   "metadata": {},
   "outputs": [
    {
     "name": "stdout",
     "output_type": "stream",
     "text": [
      "Hafta başında 1000 dolarlık bitcoin aldığımızda günde ortalama (0, 12) kazançla, bir hafta sonunda 1210.68 dolar kazanırdık\n"
     ]
    }
   ],
   "source": [
    "print(\n",
    "      \"Hafta başında {} dolarlık bitcoin aldığımızda günde \" \n",
    "    \"ortalama {} kazançla, bir hafta sonunda {:.2f} dolar kazanırdık\".format(yatirim,günlük_getiri_oranı,net) \n",
    "\n",
    "        )"
   ]
  },
  {
   "cell_type": "markdown",
   "metadata": {},
   "source": [
    "## Py uzantılı kod"
   ]
  },
  {
   "cell_type": "code",
   "execution_count": 30,
   "metadata": {},
   "outputs": [
    {
     "name": "stdout",
     "output_type": "stream",
     "text": [
      "lütfen dosya adi girinizadibatsin\n",
      "dosya adiniz: adibatsin.py\n"
     ]
    }
   ],
   "source": [
    "y = input(\"lütfen dosya adi giriniz\")\n",
    "\n",
    "print(\"dosya adiniz: \",y,\".py\", sep=\"\")\n",
    "\n"
   ]
  },
  {
   "cell_type": "code",
   "execution_count": null,
   "metadata": {},
   "outputs": [],
   "source": []
  },
  {
   "cell_type": "code",
   "execution_count": null,
   "metadata": {},
   "outputs": [],
   "source": []
  }
 ],
 "metadata": {
  "kernelspec": {
   "display_name": "Python 3",
   "language": "python",
   "name": "python3"
  },
  "language_info": {
   "codemirror_mode": {
    "name": "ipython",
    "version": 3
   },
   "file_extension": ".py",
   "mimetype": "text/x-python",
   "name": "python",
   "nbconvert_exporter": "python",
   "pygments_lexer": "ipython3",
   "version": "3.7.6"
  }
 },
 "nbformat": 4,
 "nbformat_minor": 4
}
